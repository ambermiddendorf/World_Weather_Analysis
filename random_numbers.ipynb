{
 "cells": [
  {
   "cell_type": "code",
   "execution_count": null,
   "id": "7fc914f6",
   "metadata": {},
   "outputs": [],
   "source": [
    "#import random module\n",
    "import random as rn"
   ]
  },
  {
   "cell_type": "code",
   "execution_count": null,
   "id": "a8c4da1d",
   "metadata": {},
   "outputs": [],
   "source": [
    "rn.random()"
   ]
  },
  {
   "cell_type": "code",
   "execution_count": null,
   "id": "c95013a5",
   "metadata": {},
   "outputs": [],
   "source": [
    "#Create random latitudes\n",
    "x = 1\n",
    "latitudes = []\n",
    "while x < 11:\n",
    "    random_lat = rn.randint(-90, 89) + rn.random()\n",
    "    latitudes.append(random_lat)\n",
    "    x += 1\n",
    "    \n",
    "latitudes"
   ]
  },
  {
   "cell_type": "code",
   "execution_count": null,
   "id": "9723a28c",
   "metadata": {},
   "outputs": [],
   "source": [
    "rn.randrange(-90,89, 2)\n"
   ]
  },
  {
   "cell_type": "code",
   "execution_count": null,
   "id": "207b33d2",
   "metadata": {},
   "outputs": [],
   "source": [
    "rn.uniform(-90,90)"
   ]
  },
  {
   "cell_type": "code",
   "execution_count": null,
   "id": "631a897c",
   "metadata": {},
   "outputs": [],
   "source": [
    "#import NumPy\n",
    "import numpy as np"
   ]
  },
  {
   "cell_type": "code",
   "execution_count": null,
   "id": "bdcdd4a2",
   "metadata": {},
   "outputs": [],
   "source": [
    "np.random.uniform(-90.000, 90.000, size = 50)"
   ]
  },
  {
   "cell_type": "code",
   "execution_count": null,
   "id": "7ca0b357",
   "metadata": {},
   "outputs": [],
   "source": [
    "import timeit\n"
   ]
  },
  {
   "cell_type": "code",
   "execution_count": null,
   "id": "2ff09ee5",
   "metadata": {},
   "outputs": [],
   "source": [
    "%timeit np.random.uniform(-90.000, 90.000, size = 1500)"
   ]
  },
  {
   "cell_type": "code",
   "execution_count": null,
   "id": "50afcd91",
   "metadata": {},
   "outputs": [],
   "source": [
    "def latitudes(size):\n",
    "    latitudes = []\n",
    "    x = 0\n",
    "    while x < (size):\n",
    "        random_lat = rn.randint(-90, 90) + rn.random()\n",
    "        latitudes.append(random_lat)\n",
    "        x += 1\n",
    "    return latitudes\n",
    "\n",
    "# Call the function with 1500.\n",
    "%timeit latitudes(1500)"
   ]
  },
  {
   "cell_type": "code",
   "execution_count": null,
   "id": "5cc2bc79",
   "metadata": {},
   "outputs": [],
   "source": [
    "def latitudes(size):\n",
    "    latitudes = []\n",
    "    x = 0\n",
    "    while x < (size):\n",
    "        random_lat = np.random.uniform(-90.000,90.000)\n",
    "        latitudes.append(random_lat)\n",
    "        x += 1\n",
    "    return latitudes\n",
    "\n",
    "# Call the function with 1500.\n",
    "%timeit latitudes(1500)"
   ]
  },
  {
   "cell_type": "code",
   "execution_count": null,
   "id": "0c99e717",
   "metadata": {},
   "outputs": [],
   "source": []
  }
 ],
 "metadata": {
  "kernelspec": {
   "display_name": "PythonData",
   "language": "python",
   "name": "pythondata"
  },
  "language_info": {
   "codemirror_mode": {
    "name": "ipython",
    "version": 3
   },
   "file_extension": ".py",
   "mimetype": "text/x-python",
   "name": "python",
   "nbconvert_exporter": "python",
   "pygments_lexer": "ipython3",
   "version": "3.7.11"
  }
 },
 "nbformat": 4,
 "nbformat_minor": 5
}
