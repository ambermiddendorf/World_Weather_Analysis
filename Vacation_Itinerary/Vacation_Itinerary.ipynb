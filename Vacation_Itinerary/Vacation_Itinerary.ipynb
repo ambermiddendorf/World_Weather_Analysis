{
 "cells": [
  {
   "cell_type": "markdown",
   "metadata": {},
   "source": [
    "## Deliverable 3. Create a Travel Itinerary Map."
   ]
  },
  {
   "cell_type": "code",
   "execution_count": 1,
   "metadata": {},
   "outputs": [],
   "source": [
    "# Dependencies and Setup\n",
    "import pandas as pd\n",
    "import requests\n",
    "import gmaps\n",
    "\n",
    "# Import API key\n",
    "from config import g_key\n",
    "\n",
    "# Configure gmaps\n",
    "gmaps.configure(api_key=g_key)"
   ]
  },
  {
   "cell_type": "code",
   "execution_count": 2,
   "metadata": {},
   "outputs": [
    {
     "data": {
      "text/plain": [
       "<bound method NDFrame.head of      City_ID                        City Country  Max Temp      Description  \\\n",
       "0          5                 Port Alfred      ZA     70.32    broken clouds   \n",
       "1         15                     Rikitea      PF     77.72       light rain   \n",
       "2         18               Cockburn Town      TC     75.38    broken clouds   \n",
       "3         21  San Ramon De La Nueva Oran      AR     75.54  overcast clouds   \n",
       "4         23             Arraial Do Cabo      BR     75.16    broken clouds   \n",
       "..       ...                         ...     ...       ...              ...   \n",
       "153      624                    Goiatuba      BR     71.53  overcast clouds   \n",
       "154      634                   Ariquemes      BR     74.32  overcast clouds   \n",
       "155      637                     Aloleng      PH     78.10       few clouds   \n",
       "156      640                        Leon      MX     77.83       few clouds   \n",
       "157      653        Amarante Do Maranhao      BR     74.25  overcast clouds   \n",
       "\n",
       "         Lat       Lng                                    Hotel Name  \n",
       "0   -33.5906   26.8910                            The Halyards Hotel  \n",
       "1   -23.1203 -134.9692                               People ThankYou  \n",
       "2    21.4612  -71.1419                            Osprey Beach Hotel  \n",
       "3   -23.1322  -64.3260                      Hotel Residencial Centro  \n",
       "4   -22.9661  -42.0278                           Pousada Porto Praia  \n",
       "..       ...       ...                                           ...  \n",
       "153 -18.0125  -49.3547                                Hotel Barrocos  \n",
       "154  -9.9133  -63.0408           Hotel Sol Nascente - Ariquemes - RO  \n",
       "155  16.1307  119.7824  Steve Walden and Emma Sison-Walden Residence  \n",
       "156  21.1167 -101.6667                      ENTERPRISE INN POLIFORUM  \n",
       "157  -5.5667  -46.7422                              Hotéis Caçulinha  \n",
       "\n",
       "[158 rows x 8 columns]>"
      ]
     },
     "execution_count": 2,
     "metadata": {},
     "output_type": "execute_result"
    }
   ],
   "source": [
    "# 1. Read the WeatherPy_vacation.csv into a DataFrame.\n",
    "vacation_df = pd.read_csv(\"../Vacation_Search/WeatherPy_vacation.csv\")\n",
    "vacation_df.head"
   ]
  },
  {
   "cell_type": "code",
   "execution_count": 3,
   "metadata": {},
   "outputs": [],
   "source": [
    "# 2. Using the template add the city name, the country code, the weather description and maximum temperature for the city.\n",
    "info_box_template = \"\"\"\n",
    "<dl>\n",
    "<dt>Hotel Name</dt><dd>{Hotel Name}</dd>\n",
    "<dt>City</dt><dd>{City}</dd>\n",
    "<dt>Country</dt><dd>{Country}</dd>\n",
    "<dt>Current Weather</dt><dd>{Description} and {Max Temp} °F</dd>\n",
    "</dl>\n",
    "\n",
    "\"\"\"\n",
    "\n",
    "# 3a. Get the data from each row and add it to the formatting template and store the data in a list.\n",
    "hotel_info = [info_box_template.format(**row) for index, row in vacation_df.iterrows()]\n",
    "\n",
    "# 3b. Get the latitude and longitude from each row and store in a new DataFrame.\n",
    "locations = vacation_df[[\"Lat\", \"Lng\"]]"
   ]
  },
  {
   "cell_type": "code",
   "execution_count": 4,
   "metadata": {},
   "outputs": [
    {
     "data": {
      "application/vnd.jupyter.widget-view+json": {
       "model_id": "fa8237386a3a4f1eb9a43dcd794658b0",
       "version_major": 2,
       "version_minor": 0
      },
      "text/plain": [
       "Figure(layout=FigureLayout(height='420px'))"
      ]
     },
     "metadata": {},
     "output_type": "display_data"
    }
   ],
   "source": [
    "# 4a. Add a marker layer for each city to the map.\n",
    "fig = gmaps.figure(center=(15.0, 31.0), zoom_level =1.8)\n",
    "marker_layer=gmaps.marker_layer(locations, info_box_content = hotel_info)\n",
    "fig.add_layer(marker_layer)\n",
    "# 4b. Display the figure\n",
    "fig\n",
    "\n",
    "\n"
   ]
  },
  {
   "cell_type": "code",
   "execution_count": 5,
   "metadata": {},
   "outputs": [],
   "source": [
    "# From the map above pick 4 cities and create a vacation itinerary route to travel between the four cities. \n",
    "# 5. Create DataFrames for each city by filtering the 'vacation_df' using the loc method. \n",
    "# Hint: The starting and ending city should be the same city.\n",
    "\n",
    "vacation_start = vacation_df.loc[vacation_df[\"City\"]==\"Innisfail\"]\n",
    "vacation_end = vacation_df.loc[vacation_df[\"City\"]==\"Innisfail\"]\n",
    "vacation_stop1 = vacation_df.loc[vacation_df[\"City\"]==\"Mount Isa\"]\n",
    "vacation_stop2 = vacation_df.loc[vacation_df[\"City\"]==\"Charters Towers\"] \n",
    "vacation_stop3 = vacation_df.loc[vacation_df[\"City\"]==\"Hervey Bay\"] "
   ]
  },
  {
   "cell_type": "code",
   "execution_count": 6,
   "metadata": {},
   "outputs": [],
   "source": [
    "# 6. Get the latitude-longitude pairs as tuples from each city DataFrame using the to_numpy function and list indexing.\n",
    "start = vacation_start[\"Lat\"].to_numpy()[0], vacation_start[\"Lng\"].to_numpy()[0]\n",
    "end = vacation_end[\"Lat\"].to_numpy()[0], vacation_end[\"Lng\"].to_numpy()[0]\n",
    "stop1 = vacation_stop1[\"Lat\"].to_numpy()[0], vacation_stop1[\"Lng\"].to_numpy()[0]\n",
    "stop2 = vacation_stop2[\"Lat\"].to_numpy()[0], vacation_stop2[\"Lng\"].to_numpy()[0]\n",
    "stop3 = vacation_stop3[\"Lat\"].to_numpy()[0], vacation_stop3[\"Lng\"].to_numpy()[0]"
   ]
  },
  {
   "cell_type": "code",
   "execution_count": 7,
   "metadata": {},
   "outputs": [
    {
     "data": {
      "application/vnd.jupyter.widget-view+json": {
       "model_id": "21aa4c1ba65a4399a440d407ec282a41",
       "version_major": 2,
       "version_minor": 0
      },
      "text/plain": [
       "Figure(layout=FigureLayout(height='420px'))"
      ]
     },
     "metadata": {},
     "output_type": "display_data"
    }
   ],
   "source": [
    "# 7. Create a direction layer map using the start and end latitude-longitude pairs,\n",
    "# and stop1, stop2, and stop3 as the waypoints. The travel_mode should be \"DRIVING\", \"BICYCLING\", or \"WALKING\".\n",
    "fig2 = gmaps.figure()\n",
    "# figure params: layout={'width': '800px', 'height': '600px'}, zoom_level=6, center = (-22.0, 147.0)\n",
    "vacay_itinerary = gmaps.directions_layer(\n",
    "        start, end, waypoints=[stop1, stop2, stop3],\n",
    "        travel_mode='DRIVING')\n",
    "\n",
    "fig2.add_layer(vacay_itinerary)\n",
    "\n",
    "fig2"
   ]
  },
  {
   "cell_type": "code",
   "execution_count": 11,
   "metadata": {},
   "outputs": [
    {
     "data": {
      "text/html": [
       "<div>\n",
       "<style scoped>\n",
       "    .dataframe tbody tr th:only-of-type {\n",
       "        vertical-align: middle;\n",
       "    }\n",
       "\n",
       "    .dataframe tbody tr th {\n",
       "        vertical-align: top;\n",
       "    }\n",
       "\n",
       "    .dataframe thead th {\n",
       "        text-align: right;\n",
       "    }\n",
       "</style>\n",
       "<table border=\"1\" class=\"dataframe\">\n",
       "  <thead>\n",
       "    <tr style=\"text-align: right;\">\n",
       "      <th></th>\n",
       "      <th>City_ID</th>\n",
       "      <th>City</th>\n",
       "      <th>Country</th>\n",
       "      <th>Max Temp</th>\n",
       "      <th>Description</th>\n",
       "      <th>Lat</th>\n",
       "      <th>Lng</th>\n",
       "      <th>Hotel Name</th>\n",
       "    </tr>\n",
       "  </thead>\n",
       "  <tbody>\n",
       "    <tr>\n",
       "      <th>0</th>\n",
       "      <td>205</td>\n",
       "      <td>Mount Isa</td>\n",
       "      <td>AU</td>\n",
       "      <td>74.97</td>\n",
       "      <td>broken clouds</td>\n",
       "      <td>-20.7333</td>\n",
       "      <td>139.5000</td>\n",
       "      <td>ibis Styles Mt Isa Verona</td>\n",
       "    </tr>\n",
       "    <tr>\n",
       "      <th>1</th>\n",
       "      <td>293</td>\n",
       "      <td>Charters Towers</td>\n",
       "      <td>AU</td>\n",
       "      <td>74.91</td>\n",
       "      <td>overcast clouds</td>\n",
       "      <td>-20.1000</td>\n",
       "      <td>146.2667</td>\n",
       "      <td>Cattleman's Rest Motor Inn</td>\n",
       "    </tr>\n",
       "    <tr>\n",
       "      <th>2</th>\n",
       "      <td>257</td>\n",
       "      <td>Hervey Bay</td>\n",
       "      <td>AU</td>\n",
       "      <td>77.04</td>\n",
       "      <td>light rain</td>\n",
       "      <td>-25.2986</td>\n",
       "      <td>152.8535</td>\n",
       "      <td>Shelly Bay Resort</td>\n",
       "    </tr>\n",
       "    <tr>\n",
       "      <th>3</th>\n",
       "      <td>72</td>\n",
       "      <td>Innisfail</td>\n",
       "      <td>AU</td>\n",
       "      <td>77.22</td>\n",
       "      <td>overcast clouds</td>\n",
       "      <td>-17.5333</td>\n",
       "      <td>146.0333</td>\n",
       "      <td>Moondarra Motel</td>\n",
       "    </tr>\n",
       "  </tbody>\n",
       "</table>\n",
       "</div>"
      ],
      "text/plain": [
       "   City_ID             City Country  Max Temp      Description      Lat  \\\n",
       "0      205        Mount Isa      AU     74.97    broken clouds -20.7333   \n",
       "1      293  Charters Towers      AU     74.91  overcast clouds -20.1000   \n",
       "2      257       Hervey Bay      AU     77.04       light rain -25.2986   \n",
       "3       72        Innisfail      AU     77.22  overcast clouds -17.5333   \n",
       "\n",
       "        Lng                  Hotel Name  \n",
       "0  139.5000   ibis Styles Mt Isa Verona  \n",
       "1  146.2667  Cattleman's Rest Motor Inn  \n",
       "2  152.8535           Shelly Bay Resort  \n",
       "3  146.0333             Moondarra Motel  "
      ]
     },
     "execution_count": 11,
     "metadata": {},
     "output_type": "execute_result"
    }
   ],
   "source": [
    "# 8. To create a marker layer map between the four cities.\n",
    "#  Combine the four city DataFrames into one DataFrame using the concat() function.\n",
    "itinerary_df = pd.concat([vacation_stop1, vacation_stop2, vacation_stop3, vacation_end],ignore_index=True)\n",
    "itinerary_df"
   ]
  },
  {
   "cell_type": "code",
   "execution_count": 15,
   "metadata": {},
   "outputs": [],
   "source": [
    "# 9 Using the template add city name, the country code, the weather description and maximum temperature for the city. \n",
    "info_box_template2 = \"\"\"\n",
    "<dl>\n",
    "<dt>Hotel Name</dt><dd>{Hotel Name}</dd>\n",
    "<dt>City</dt><dd>{City}</dd>\n",
    "<dt>Country</dt><dd>{Country}</dd>\n",
    "<dt>Current Weather</dt><dd>{Description} and {Max Temp} °F</dd>\n",
    "</dl>\n",
    "\"\"\"\n",
    "\n",
    "# 10a Get the data from each row and add it to the formatting template and store the data in a list.\n",
    "city_info = [info_box_template2.format(**row) for index, row in itinerary_df.iterrows()]\n",
    "\n",
    "# 10b. Get the latitude and longitude from each row and store in a new DataFrame.\n",
    "locations = itinerary_df[[\"Lat\", \"Lng\"]]"
   ]
  },
  {
   "cell_type": "code",
   "execution_count": 16,
   "metadata": {},
   "outputs": [
    {
     "data": {
      "application/vnd.jupyter.widget-view+json": {
       "model_id": "21aa4c1ba65a4399a440d407ec282a41",
       "version_major": 2,
       "version_minor": 0
      },
      "text/plain": [
       "Figure(layout=FigureLayout(height='420px'))"
      ]
     },
     "metadata": {},
     "output_type": "display_data"
    }
   ],
   "source": [
    "# 11a. Add a marker layer for each city to the map.\n",
    "marker_layer=gmaps.marker_layer(locations, info_box_content = city_info, display_info_box = True)\n",
    "fig2.add_layer(marker_layer)\n",
    "\n",
    "# 11b. Display the figure\n",
    "fig2"
   ]
  },
  {
   "cell_type": "code",
   "execution_count": null,
   "metadata": {},
   "outputs": [],
   "source": []
  }
 ],
 "metadata": {
  "kernelspec": {
   "display_name": "PythonData",
   "language": "python",
   "name": "pythondata"
  },
  "language_info": {
   "codemirror_mode": {
    "name": "ipython",
    "version": 3
   },
   "file_extension": ".py",
   "mimetype": "text/x-python",
   "name": "python",
   "nbconvert_exporter": "python",
   "pygments_lexer": "ipython3",
   "version": "3.7.11"
  },
  "latex_envs": {
   "LaTeX_envs_menu_present": true,
   "autoclose": false,
   "autocomplete": true,
   "bibliofile": "biblio.bib",
   "cite_by": "apalike",
   "current_citInitial": 1,
   "eqLabelWithNumbers": true,
   "eqNumInitial": 1,
   "hotkeys": {
    "equation": "Ctrl-E",
    "itemize": "Ctrl-I"
   },
   "labels_anchors": false,
   "latex_user_defs": false,
   "report_style_numbering": false,
   "user_envs_cfg": false
  }
 },
 "nbformat": 4,
 "nbformat_minor": 2
}
